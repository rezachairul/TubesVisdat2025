{
 "cells": [
  {
   "cell_type": "code",
   "execution_count": 1,
   "id": "1f7c6563",
   "metadata": {},
   "outputs": [],
   "source": [
    "# === Step 1: Import library ===\n",
    "import pandas as pd"
   ]
  },
  {
   "cell_type": "code",
   "execution_count": 5,
   "id": "3f9e7e29",
   "metadata": {},
   "outputs": [
    {
     "name": "stdout",
     "output_type": "stream",
     "text": [
      "  Angka Deforestasi Netto Indonesia Di Dalam Dan Di Luar Kawasan Hutan Tahun 2013-2022  (Ha/Th)  \\\n",
      "0                                                NaN                                              \n",
      "1                                           Provinsi                                              \n",
      "2                                                NaN                                              \n",
      "3                                               Aceh                                              \n",
      "4                                     Sumatera Utara                                              \n",
      "\n",
      "      Unnamed: 1                                         Unnamed: 2  \\\n",
      "0            NaN                                                NaN   \n",
      "1     2013-2014                                                 NaN   \n",
      "2  Kawasan Hutan  APL (Areal Penggunaan Lain) / Bukan Kawasan Hutan   \n",
      "3        3,363.9                                            4,284.2   \n",
      "4        4,675.2                                            1,465.3   \n",
      "\n",
      "          Unnamed: 3     Unnamed: 4  \\\n",
      "0                NaN            NaN   \n",
      "1                NaN     2014-2015    \n",
      "2  Total Deforestasi  Kawasan Hutan   \n",
      "3            7,648.1          -72.1   \n",
      "4            6,140.5       15,450.3   \n",
      "\n",
      "                                          Unnamed: 5         Unnamed: 6  \\\n",
      "0                                                NaN                NaN   \n",
      "1                                                NaN                NaN   \n",
      "2  APL (Areal Penggunaan Lain) / Bukan Kawasan Hutan  Total Deforestasi   \n",
      "3                                            3,303.5            3,231.5   \n",
      "4                                            5,215.4           20,665.7   \n",
      "\n",
      "      Unnamed: 7                                         Unnamed: 8  \\\n",
      "0            NaN                                                NaN   \n",
      "1     2015-2016                                                 NaN   \n",
      "2  Kawasan Hutan  APL (Areal Penggunaan Lain) / Bukan Kawasan Hutan   \n",
      "3       12,523.0                                           10,548.6   \n",
      "4        7,907.3                                            1,807.0   \n",
      "\n",
      "          Unnamed: 9  ...        Unnamed: 18    Unnamed: 19  \\\n",
      "0                NaN  ...                NaN            NaN   \n",
      "1                NaN  ...                NaN     2019-2020    \n",
      "2  Total Deforestasi  ...  Total Deforestasi  Kawasan Hutan   \n",
      "3           23,071.6  ...           11,608.0        1,195.3   \n",
      "4            9,714.3  ...           12,402.4          470.4   \n",
      "\n",
      "                                         Unnamed: 20        Unnamed: 21  \\\n",
      "0                                                NaN                NaN   \n",
      "1                                                NaN                NaN   \n",
      "2  APL (Areal Penggunaan Lain) / Bukan Kawasan Hutan  Total Deforestasi   \n",
      "3                                              722.6            1,917.9   \n",
      "4                                              763.2            1,233.6   \n",
      "\n",
      "     Unnamed: 22                                        Unnamed: 23  \\\n",
      "0            NaN                                                NaN   \n",
      "1     2020-2021                                                 NaN   \n",
      "2  Kawasan Hutan  APL (Areal Penggunaan Lain) / Bukan Kawasan Hutan   \n",
      "3        1,816.3                                            1,182.5   \n",
      "4        2,499.0                                              840.0   \n",
      "\n",
      "         Unnamed: 24    Unnamed: 25  \\\n",
      "0                NaN            NaN   \n",
      "1                NaN     2021-2022    \n",
      "2  Total Deforestasi  Kawasan Hutan   \n",
      "3            2,998.8        2,834.5   \n",
      "4            3,339.0        3,259.5   \n",
      "\n",
      "                                         Unnamed: 26        Unnamed: 27  \n",
      "0                                                NaN                NaN  \n",
      "1                                                NaN                NaN  \n",
      "2  APL (Areal Penggunaan Lain) / Bukan Kawasan Hutan  Total Deforestasi  \n",
      "3                                            2,532.6            5,367.1  \n",
      "4                                            2,339.4            5,598.9  \n",
      "\n",
      "[5 rows x 28 columns]\n"
     ]
    }
   ],
   "source": [
    "# === Step 2: Load Dataset dengan Handling Spasi di Header ===\n",
    "df = pd.read_csv(\n",
    "    'dataset/Angka-Deforestasi-(Netto)-Indonesia-di-Dalam-dan-di-Luar-Kawasan-Hutan-Tahun-2013-2022-(Ha_Th).csv',\n",
    "    skipinitialspace=True  # menghilangkan spasi setelah koma\n",
    ")\n",
    "\n",
    "# Bersihkan nama kolom dari spasi\n",
    "df.columns = df.columns.str.strip()\n",
    "\n",
    "# Cek beberapa baris awal\n",
    "print(df.head())"
   ]
  },
  {
   "cell_type": "code",
   "execution_count": null,
   "id": "21ebdbd5",
   "metadata": {},
   "outputs": [],
   "source": [
    "# === Step 3: Preprocessing (AGGREGATION) ===\n",
    "# Ubah Data dari Wide ke Long\n",
    "df_melted = pd.melt(\n",
    "    df,\n",
    "    id_vars=['Provinsi'],\n",
    "    var_name='Tahun_Status',\n",
    "    value_name='Deforestasi (Ha)'\n",
    ")\n",
    "\n",
    "# Pisahkan kolom 'Tahun_Status' menjadi Tahun dan Status Kawasan\n",
    "df_melted[['Tahun', 'Status Kawasan']] = df_melted['Tahun_Status'].str.extract(r'(\\d{4}-\\d{4})\\s+(.*)')\n",
    "\n",
    "# Drop kolom gabungan\n",
    "df_melted = df_melted.drop(columns=['Tahun_Status'])\n",
    "\n",
    "# Rapikan kolom\n",
    "df_tidy = df_melted[['Provinsi', 'Tahun', 'Status Kawasan', 'Deforestasi (Ha)']]\n",
    "\n",
    "print(df_tidy.head())"
   ]
  },
  {
   "cell_type": "code",
   "execution_count": null,
   "id": "97874bd1",
   "metadata": {},
   "outputs": [],
   "source": [
    "\n",
    "# 3.1 Tren Total Deforestasi Nasional per Tahun\n",
    "tren_total = (\n",
    "    df.groupby('Tahun', as_index=False)\n",
    "      .agg({'Deforestasi (Ha)': 'sum'})\n",
    ")"
   ]
  },
  {
   "cell_type": "code",
   "execution_count": null,
   "id": "a8ab8df6",
   "metadata": {},
   "outputs": [],
   "source": [
    "\n",
    "# 3.2 Perbandingan Kawasan Hutan vs APL per Tahun\n",
    "perbandingan_kawasan = (\n",
    "    df.groupby(['Tahun', 'Status Kawasan'])['Deforestasi (Ha)']\n",
    "      .sum()\n",
    "      .unstack(fill_value=0)\n",
    "      .reset_index()\n",
    ")"
   ]
  },
  {
   "cell_type": "code",
   "execution_count": null,
   "id": "68915aac",
   "metadata": {},
   "outputs": [],
   "source": [
    "\n",
    "# 3.3 Akumulasi Deforestasi per Provinsi\n",
    "deforestasi_provinsi = (\n",
    "    df.groupby('Provinsi', as_index=False)\n",
    "      .agg({'Deforestasi (Ha)': 'sum'})\n",
    "      .sort_values(by='Deforestasi (Ha)', ascending=False)\n",
    ")"
   ]
  },
  {
   "cell_type": "code",
   "execution_count": null,
   "id": "47c1d2c7",
   "metadata": {},
   "outputs": [],
   "source": [
    "\n",
    "# 3.4 Deforestasi per Provinsi dan Tahun (Data untuk Heatmap)\n",
    "heatmap_data = (\n",
    "    df.pivot_table(\n",
    "        index='Provinsi',\n",
    "        columns='Tahun',\n",
    "        values='Deforestasi (Ha)',\n",
    "        aggfunc='sum',\n",
    "        fill_value=0\n",
    "    )\n",
    ")"
   ]
  },
  {
   "cell_type": "code",
   "execution_count": null,
   "id": "91b783fd",
   "metadata": {},
   "outputs": [],
   "source": [
    "# === Step 4: Save Aggregated Data to CSV ===\n",
    "\n",
    "# Membuat folder output jika belum ada\n",
    "import os\n",
    "output_folder = 'output'\n",
    "os.makedirs(output_folder, exist_ok=True)"
   ]
  },
  {
   "cell_type": "code",
   "execution_count": null,
   "id": "20de6177",
   "metadata": {},
   "outputs": [],
   "source": [
    "tren_total.to_csv(f'{output_folder}/tren_total_deforestasi.csv', index=False)\n",
    "print(\"✅ Saved: tren_total_deforestasi.csv\")"
   ]
  },
  {
   "cell_type": "code",
   "execution_count": null,
   "id": "1b433b38",
   "metadata": {},
   "outputs": [],
   "source": [
    "perbandingan_kawasan.to_csv(f'{output_folder}/perbandingan_kawasan_hutan_apl.csv', index=False)\n",
    "print(\"✅ Saved: perbandingan_kawasan_hutan_apl.csv\")"
   ]
  },
  {
   "cell_type": "code",
   "execution_count": null,
   "id": "f3f3f8b2",
   "metadata": {},
   "outputs": [],
   "source": [
    "deforestasi_provinsi.to_csv(f'{output_folder}/deforestasi_akumulasi_provinsi.csv', index=False)\n",
    "print(\"✅ Saved: deforestasi_akumulasi_provinsi.csv\")"
   ]
  },
  {
   "cell_type": "code",
   "execution_count": null,
   "id": "0ca2b6a8",
   "metadata": {},
   "outputs": [],
   "source": [
    "heatmap_data.to_csv(f'{output_folder}/heatmap_deforestasi_provinsi_tahun.csv')\n",
    "print(\"✅ Saved: heatmap_deforestasi_provinsi_tahun.csv\")"
   ]
  }
 ],
 "metadata": {
  "kernelspec": {
   "display_name": "base",
   "language": "python",
   "name": "python3"
  },
  "language_info": {
   "codemirror_mode": {
    "name": "ipython",
    "version": 3
   },
   "file_extension": ".py",
   "mimetype": "text/x-python",
   "name": "python",
   "nbconvert_exporter": "python",
   "pygments_lexer": "ipython3",
   "version": "3.12.9"
  }
 },
 "nbformat": 4,
 "nbformat_minor": 5
}
