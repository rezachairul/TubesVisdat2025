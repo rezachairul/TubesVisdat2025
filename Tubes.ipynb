{
 "cells": [
  {
   "cell_type": "code",
   "execution_count": 1,
   "id": "727efdf2",
   "metadata": {},
   "outputs": [],
   "source": [
    "import pandas as pd"
   ]
  },
  {
   "cell_type": "code",
   "execution_count": 2,
   "id": "73128d39",
   "metadata": {},
   "outputs": [],
   "source": [
    "# Baca file CSV dengan header multi baris\n",
    "df_raw = pd.read_csv('dataset/datasetTubes.csv', header=[0, 1, 2])"
   ]
  },
  {
   "cell_type": "code",
   "execution_count": 3,
   "id": "75dbf7f1",
   "metadata": {},
   "outputs": [],
   "source": [
    "# Gabungkan header multi-level menjadi satu\n",
    "df_raw.columns = [\n",
    "    'Provinsi' if col[0] == 'Provinsi' else f\"{col[0]} - {col[2]}\"\n",
    "    for col in df_raw.columns\n",
    "]"
   ]
  },
  {
   "cell_type": "code",
   "execution_count": 4,
   "id": "5dae853a",
   "metadata": {},
   "outputs": [],
   "source": [
    "# Drop 3 baris pertama (karena itu hanya header)\n",
    "df_clean = df_raw.iloc[3:].copy()"
   ]
  },
  {
   "cell_type": "code",
   "execution_count": 5,
   "id": "ac6bd149",
   "metadata": {},
   "outputs": [],
   "source": [
    "# Ubah nilai numerik dari string ke float\n",
    "for col in df_clean.columns[1:]:\n",
    "    df_clean[col] = df_clean[col].astype(str).str.replace('.', '', regex=False)\n",
    "    df_clean[col] = df_clean[col].str.replace(',', '.', regex=False)\n",
    "    df_clean[col] = pd.to_numeric(df_clean[col], errors='coerce')"
   ]
  },
  {
   "cell_type": "code",
   "execution_count": null,
   "id": "6bece4c3",
   "metadata": {},
   "outputs": [],
   "source": [
    "# Ubah ke format long\n",
    "df_melted = df_clean.melt(id_vars='Provinsi', var_name='Tahun_Kategori', value_name='Nilai')\n",
    "df_melted[['Tahun', 'Kategori']] = df_melted['Tahun_Kategori'].str.extract(r'(\\d{4}-\\d{4})\\s*-\\s*(.+)')\n",
    "df_melted = df_melted.drop(columns='Tahun_Kategori')"
   ]
  },
  {
   "cell_type": "code",
   "execution_count": null,
   "id": "03560c10",
   "metadata": {},
   "outputs": [],
   "source": [
    "# Simpan ke file baru (opsional)\n",
    "df_melted.to_csv('deforestasi_long_format.csv', index=False)"
   ]
  }
 ],
 "metadata": {
  "kernelspec": {
   "display_name": "base",
   "language": "python",
   "name": "python3"
  },
  "language_info": {
   "codemirror_mode": {
    "name": "ipython",
    "version": 3
   },
   "file_extension": ".py",
   "mimetype": "text/x-python",
   "name": "python",
   "nbconvert_exporter": "python",
   "pygments_lexer": "ipython3",
   "version": "3.12.9"
  }
 },
 "nbformat": 4,
 "nbformat_minor": 5
}
